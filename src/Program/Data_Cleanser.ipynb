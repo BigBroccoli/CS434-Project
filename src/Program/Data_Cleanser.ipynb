{
 "cells": [
  {
   "cell_type": "code",
   "execution_count": null,
   "id": "0d12bf13",
   "metadata": {},
   "outputs": [],
   "source": [
    "import pandas as pd\n",
    "import numpy as np\n",
    "from pathlib import Path\n",
    "from sklearn.preprocessing import LabelEncoder\n",
    "import os"
   ]
  },
  {
   "cell_type": "code",
   "execution_count": 33,
   "id": "6e36749e",
   "metadata": {},
   "outputs": [
    {
     "name": "stdout",
     "output_type": "stream",
     "text": [
      "Dataset found at: d:\\School\\CS 434\\Project\\src\\Data\\Dataset.csv\n"
     ]
    }
   ],
   "source": [
    "# Grab the directory of the current file\n",
    "# Should be ./Project/src/Program\n",
    "try:\n",
    "    current_dir = Path(__file__).parent.absolute()\n",
    "except NameError:\n",
    "    # If using a Jupyter notebook\n",
    "    try:\n",
    "        current_dir = Path.cwd()\n",
    "    except:\n",
    "        # If continuing to fail set path manually\n",
    "        current_dir = Path(\"D:/School/CS 434/Project/src/Program\")\n",
    "\n",
    "# Go to the Data directory \n",
    "# Should be ./Project/src/Data\n",
    "data_dir = current_dir.parent / \"Data\"\n",
    "\n",
    "# Get the Datasets path\n",
    "dataset_path = data_dir / \"Dataset.csv\"\n",
    "\n",
    "# Verify the file exists\n",
    "if dataset_path.exists():\n",
    "    print(f\"Dataset found at: {dataset_path}\")\n",
    "    df = pd.read_csv(dataset_path)\n",
    "else:\n",
    "    print(f\"Dataset not found at expected path: {dataset_path}\")"
   ]
  },
  {
   "cell_type": "code",
   "execution_count": null,
   "id": "d71f51a6",
   "metadata": {},
   "outputs": [],
   "source": [
    "# Check for any duplicate rows and remove them\n",
    "df = df.drop_duplicates()\n",
    "\n",
    "# Convert numeric comlumns to appropriate types\n",
    "numeric_columns = ['ApplicantIncome', 'CoapplicantIncome', 'LoanAmount', 'Loan_Amount_Term']\n",
    "for col in numeric_columns:\n",
    "    df[col] = pd.to_numeric(df[col], errors='coerce')\n",
    "\n",
    "# Categorical columns\n",
    "categorical_columns = ['Gender', 'Married', 'Dependents', 'Education', 'Self_Employed', 'Credit_History', 'Property_Area']"
   ]
  },
  {
   "cell_type": "code",
   "execution_count": null,
   "id": "f9cabc14",
   "metadata": {},
   "outputs": [],
   "source": [
    "# Create first cleansed dataset - using median/mode imputation\n"
   ]
  }
 ],
 "metadata": {
  "kernelspec": {
   "display_name": "myenv",
   "language": "python",
   "name": "python3"
  },
  "language_info": {
   "codemirror_mode": {
    "name": "ipython",
    "version": 3
   },
   "file_extension": ".py",
   "mimetype": "text/x-python",
   "name": "python",
   "nbconvert_exporter": "python",
   "pygments_lexer": "ipython3",
   "version": "3.10.11"
  }
 },
 "nbformat": 4,
 "nbformat_minor": 5
}
